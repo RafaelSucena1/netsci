{
 "cells": [
  {
   "cell_type": "code",
   "execution_count": 1,
   "outputs": [
    {
     "name": "stdout",
     "output_type": "stream",
     "text": [
      "[0.03278149 0.38418183 0.3431294  0.03908709 0.08088569 0.03908709\n",
      " 0.01616948 0.01616948 0.01616948 0.01616948 0.01616948]\n",
      "0.9999999999999999\n"
     ]
    }
   ],
   "source": [
    "import numpy as np\n",
    "\n",
    "def pageRank(A, beta, eps):\n",
    "    def hasInDegrees(matrix):\n",
    "        degrees = np.zeros(len(matrix))\n",
    "        for i in range(0, len(matrix)):\n",
    "            for j in range(0, len(matrix)):\n",
    "                degrees[i] = int(matrix[j][i] != 0)\n",
    "                if degrees[i] != 0:\n",
    "                    break\n",
    "\n",
    "\n",
    "        return degrees\n",
    "    def outDegrees(matrix):\n",
    "        degrees = np.zeros(len(matrix))\n",
    "        for i in range(0, len(matrix)):\n",
    "            for j in range(0, len(matrix)):\n",
    "                degrees[i] = int(matrix[i][j] != 0) + degrees[i]\n",
    "        return degrees\n",
    "\n",
    "    def step(matrix, vector):\n",
    "        nonlocal inDegrees\n",
    "        nonlocal outDegree\n",
    "        nonlocal beta\n",
    "        returnVector = np.zeros(len(vector))\n",
    "\n",
    "        for i in range(0, len(vector)):\n",
    "            sum_ = 0\n",
    "            for j in range(0, len(vector)):\n",
    "                if inDegrees[i] == 0:\n",
    "                    break\n",
    "                elif outDegree[j] == 0:\n",
    "                    continue\n",
    "                elif matrix[j][i] != 0:\n",
    "                    sum_ = sum_ + vector[j] * beta / outDegree[j]\n",
    "            returnVector[i] = sum_\n",
    "\n",
    "        returnVector = returnVector + (1 - np.sum(returnVector)) / len(returnVector)\n",
    "\n",
    "        return returnVector\n",
    "\n",
    "\n",
    "\n",
    "    def manhattanDist(vector1, vector2):\n",
    "        dist = 0\n",
    "        for i in range(0, len(vector1)):\n",
    "            dist = dist + abs(vector1[i]  - vector2[i])\n",
    "        return dist\n",
    "\n",
    "    r1 = np.zeros(len(A))/(len(A))\n",
    "    r2 = np.ones(len(A))/(len(A))\n",
    "    inDegrees = hasInDegrees(A)\n",
    "    outDegree = outDegrees(A)\n",
    "\n",
    "    while(manhattanDist(r1, r2) > eps):\n",
    "        r1 = r2.copy()\n",
    "        r2 = step(A, r1)\n",
    "    return r2\n",
    "\n",
    "\n",
    "A = [\n",
    "    [0,0,0,0,0,0,0,0,0,0,0],\n",
    "    [0,0,1,0,0,0,0,0,0,0,0],\n",
    "    [0,1,0,0,0,0,0,0,0,0,0],\n",
    "    [1,1,0,0,0,0,0,0,0,0,0],\n",
    "    [0,1,0,1,0,1,0,0,0,0,0],\n",
    "    [0,1,0,0,1,0,0,0,0,0,0],\n",
    "    [0,1,0,0,1,0,0,0,0,0,0],\n",
    "    [0,1,0,0,1,0,0,0,0,0,0],\n",
    "    [0,1,0,0,1,0,0,0,0,0,0],\n",
    "    [0,0,0,0,1,0,0,0,0,0,0],\n",
    "    [0,0,0,0,1,0,0,0,0,0,0],\n",
    "]\n",
    "\n",
    "r = pageRank(A, 0.85, 0.001)\n",
    "print(r)\n",
    "print(np.sum(r))"
   ],
   "metadata": {
    "collapsed": false,
    "pycharm": {
     "name": "#%%\n"
    }
   }
  },
  {
   "cell_type": "markdown",
   "source": [
    "### exercise 4."
   ],
   "metadata": {
    "collapsed": false
   }
  },
  {
   "cell_type": "code",
   "execution_count": 112,
   "outputs": [
    {
     "name": "stdout",
     "output_type": "stream",
     "text": [
      "[0.02142857 0.17347176 0.05829815 0.15742023 0.05829815 0.2753133\n",
      " 0.25576985]\n",
      "1.0\n"
     ]
    }
   ],
   "source": [
    "matrix = [\n",
    "    [0, 1, 0, 0, 0, 0, 0],\n",
    "    [0, 0, 1, 1, 1, 1, 0],\n",
    "    [0, 0, 0, 1, 0, 0, 0],\n",
    "    [0, 1, 0, 0, 0, 0, 0],\n",
    "    [0, 0, 0, 1, 0, 0, 0],\n",
    "    [0, 0, 0, 0, 0, 0, 1],\n",
    "    [0, 0, 0, 0, 0, 1, 0]\n",
    "]\n",
    "\n",
    "\n",
    "r = pageRank(matrix, 0.85, 0.001)\n",
    "print(r)\n",
    "print(np.sum(r))"
   ],
   "metadata": {
    "collapsed": false,
    "pycharm": {
     "name": "#%%\n"
    }
   }
  },
  {
   "cell_type": "code",
   "execution_count": null,
   "outputs": [],
   "source": [
    "r = pageRank(A, 0.85, 0.001)\n",
    "print(r)\n",
    "print(np.sum(r))"
   ],
   "metadata": {
    "collapsed": false,
    "pycharm": {
     "name": "#%%\n"
    }
   }
  },
  {
   "cell_type": "markdown",
   "source": [
    "# exercise 5"
   ],
   "metadata": {
    "collapsed": false
   }
  },
  {
   "cell_type": "code",
   "execution_count": 6,
   "outputs": [
    {
     "data": {
      "text/plain": "<Figure size 432x288 with 1 Axes>",
      "image/png": "[encoded data removed]"
     },
     "metadata": {
      "needs_background": "light"
     },
     "output_type": "display_data"
    }
   ],
   "source": [
    "import numpy as np\n",
    "%matplotlib inline\n",
    "import matplotlib.pyplot as plt\n",
    "\n",
    "def pageRankSteps(A, beta, eps):\n",
    "    def hasInDegrees(matrix):\n",
    "        degrees = np.zeros(len(matrix))\n",
    "        for i in range(0, len(matrix)):\n",
    "            for j in range(0, len(matrix)):\n",
    "                degrees[i] = int(matrix[j][i] != 0)\n",
    "                if degrees[i] != 0:\n",
    "                    break\n",
    "\n",
    "\n",
    "        return degrees\n",
    "    def outDegrees(matrix):\n",
    "        degrees = np.zeros(len(matrix))\n",
    "        for i in range(0, len(matrix)):\n",
    "            for j in range(0, len(matrix)):\n",
    "                degrees[i] = int(matrix[i][j] != 0) + degrees[i]\n",
    "        return degrees\n",
    "\n",
    "    def step(matrix, vector):\n",
    "        nonlocal inDegrees\n",
    "        nonlocal outDegree\n",
    "        nonlocal beta\n",
    "        returnVector = np.zeros(len(vector))\n",
    "\n",
    "        for i in range(0, len(vector)):\n",
    "            sum_ = 0\n",
    "            for j in range(0, len(vector)):\n",
    "                if inDegrees[i] == 0:\n",
    "                    break\n",
    "                elif outDegree[j] == 0:\n",
    "                    continue\n",
    "                elif matrix[j][i] != 0:\n",
    "                    sum_ = sum_ + vector[j] * beta / outDegree[j]\n",
    "            returnVector[i] = sum_\n",
    "\n",
    "        returnVector = returnVector + (1 - np.sum(returnVector)) / len(returnVector)\n",
    "\n",
    "        return returnVector\n",
    "\n",
    "\n",
    "\n",
    "    def manhattanDist(vector1, vector2):\n",
    "        dist = 0\n",
    "        for i in range(0, len(vector1)):\n",
    "            dist = dist + abs(vector1[i]  - vector2[i])\n",
    "        return dist\n",
    "\n",
    "    r1 = np.zeros(len(A))/(len(A))\n",
    "    r2 = np.ones(len(A))/(len(A))\n",
    "    inDegrees = hasInDegrees(A)\n",
    "    outDegree = outDegrees(A)\n",
    "\n",
    "    steps = 0\n",
    "    while(manhattanDist(r1, r2) > eps):\n",
    "        r1 = r2.copy()\n",
    "        r2 = step(A, r1)\n",
    "        steps = steps + 1\n",
    "    return steps\n",
    "\n",
    "example = [\n",
    "    [0, 1, 0, 0, 0, 0, 0],\n",
    "    [0, 0, 1, 1, 1, 1, 0],\n",
    "    [0, 0, 0, 1, 0, 0, 0],\n",
    "    [0, 1, 0, 0, 0, 0, 0],\n",
    "    [0, 0, 0, 1, 0, 0, 0],\n",
    "    [0, 0, 0, 0, 0, 0, 1],\n",
    "    [0, 0, 0, 0, 0, 1, 0]\n",
    "]\n",
    "\n",
    "betarray = np.arange(0, 1, 0.05)\n",
    "steps = []\n",
    "for beta in betarray:\n",
    "    step = pageRankSteps(example, beta, 0.001)\n",
    "    steps.append(step)\n",
    "\n",
    "\n",
    "\n",
    "plt.plot(betarray, steps, '-o')\n",
    "plt.xlabel(\"beta values\")\n",
    "plt.ylabel(\"steps until convergence\")\n",
    "plt.savefig(\"Convergence.png\")"
   ],
   "metadata": {
    "collapsed": false,
    "pycharm": {
     "name": "#%%\n"
    }
   }
  },
  {
   "cell_type": "code",
   "execution_count": 13,
   "outputs": [
    {
     "data": {
      "text/plain": "<Figure size 432x288 with 1 Axes>",
      "image/png": "[encoded data removed]"
     },
     "metadata": {
      "needs_background": "light"
     },
     "output_type": "display_data"
    }
   ],
   "source": [
    "\n",
    "example = [\n",
    "    [0, 1, 0, 0, 0, 0, 0],\n",
    "    [0, 0, 1, 1, 1, 1, 0],\n",
    "    [0, 0, 0, 1, 0, 0, 0],\n",
    "    [0, 1, 0, 0, 0, 0, 0],\n",
    "    [0, 0, 0, 1, 0, 0, 0],\n",
    "    [0, 0, 0, 0, 0, 0, 1],\n",
    "    [0, 0, 0, 0, 0, 1, 0]\n",
    "]\n",
    "\n",
    "betarray = np.arange(0, 1, 0.05)\n",
    "ranks = []\n",
    "for beta in betarray:\n",
    "    rank = pageRank(example, beta, 0.001)\n",
    "    ranks.append(rank)\n",
    "\n",
    "labels = [\"A\", \"B\", \"C\", \"D\", \"E\", \"F\", \"G\"]\n",
    "\n",
    "ranks = np.transpose(ranks)\n",
    "\n",
    "for index in range(0, len(ranks)):\n",
    "    plt.plot(betarray, ranks[index], '-o', label = labels[index])\n",
    "plt.legend(loc='best')\n",
    "plt.xlabel(\"β\")\n",
    "plt.ylabel(\"ranks\")\n",
    "plt.show()"
   ],
   "metadata": {
    "collapsed": false,
    "pycharm": {
     "name": "#%%\n"
    }
   }
  }
 ],
 "metadata": {
  "kernelspec": {
   "display_name": "Python 3",
   "language": "python",
   "name": "python3"
  },
  "language_info": {
   "codemirror_mode": {
    "name": "ipython",
    "version": 2
   },
   "file_extension": ".py",
   "mimetype": "text/x-python",
   "name": "python",
   "nbconvert_exporter": "python",
   "pygments_lexer": "ipython2",
   "version": "2.7.6"
  }
 },
 "nbformat": 4,
 "nbformat_minor": 0
}