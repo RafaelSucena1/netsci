{
 "cells": [
  {
   "cell_type": "code",
   "execution_count": 2,
   "metadata": {
    "collapsed": true,
    "pycharm": {
     "name": "#%%\n"
    }
   },
   "outputs": [
    {
     "name": "stdout",
     "output_type": "stream",
     "text": [
      "[[30 66]\n",
      " [36 81]]\n"
     ]
    }
   ],
   "source": [
    "import numpy as np\n",
    "# two dimensional arrays\n",
    "m1 = np.array([[1,4,7],[2,5,8]])\n",
    "m2 = np.array([[1,4],[2,5],[3,6]])\n",
    "m3 = np.dot(m1,m2)\n",
    "print(m3)"
   ]
  },
  {
   "cell_type": "code",
   "execution_count": 63,
   "outputs": [
    {
     "ename": "TypeError",
     "evalue": "'>' not supported between instances of 'NoneType' and 'float'",
     "output_type": "error",
     "traceback": [
      "\u001B[0;31m---------------------------------------------------------------------------\u001B[0m",
      "\u001B[0;31mTypeError\u001B[0m                                 Traceback (most recent call last)",
      "Input \u001B[0;32mIn [63]\u001B[0m, in \u001B[0;36m<cell line: 64>\u001B[0;34m()\u001B[0m\n\u001B[1;32m     48\u001B[0m         \u001B[38;5;28mprint\u001B[39m(r2)\n\u001B[1;32m     51\u001B[0m A \u001B[38;5;241m=\u001B[39m [\n\u001B[1;32m     52\u001B[0m     [\u001B[38;5;241m0\u001B[39m,\u001B[38;5;241m0\u001B[39m,\u001B[38;5;241m0\u001B[39m,\u001B[38;5;241m0\u001B[39m,\u001B[38;5;241m0\u001B[39m,\u001B[38;5;241m0\u001B[39m,\u001B[38;5;241m0\u001B[39m,\u001B[38;5;241m0\u001B[39m,\u001B[38;5;241m0\u001B[39m,\u001B[38;5;241m0\u001B[39m,\u001B[38;5;241m0\u001B[39m],\n\u001B[1;32m     53\u001B[0m     [\u001B[38;5;241m0\u001B[39m,\u001B[38;5;241m0\u001B[39m,\u001B[38;5;241m1\u001B[39m,\u001B[38;5;241m0\u001B[39m,\u001B[38;5;241m0\u001B[39m,\u001B[38;5;241m0\u001B[39m,\u001B[38;5;241m0\u001B[39m,\u001B[38;5;241m0\u001B[39m,\u001B[38;5;241m0\u001B[39m,\u001B[38;5;241m0\u001B[39m,\u001B[38;5;241m0\u001B[39m],\n\u001B[0;32m   (...)\u001B[0m\n\u001B[1;32m     62\u001B[0m     [\u001B[38;5;241m0\u001B[39m,\u001B[38;5;241m0\u001B[39m,\u001B[38;5;241m0\u001B[39m,\u001B[38;5;241m0\u001B[39m,\u001B[38;5;241m1\u001B[39m,\u001B[38;5;241m0\u001B[39m,\u001B[38;5;241m0\u001B[39m,\u001B[38;5;241m0\u001B[39m,\u001B[38;5;241m0\u001B[39m,\u001B[38;5;241m0\u001B[39m,\u001B[38;5;241m0\u001B[39m],\n\u001B[1;32m     63\u001B[0m ]\n\u001B[0;32m---> 64\u001B[0m \u001B[43mpageRank\u001B[49m\u001B[43m(\u001B[49m\u001B[43mA\u001B[49m\u001B[43m,\u001B[49m\u001B[43m \u001B[49m\u001B[38;5;241;43m0.85\u001B[39;49m\u001B[43m,\u001B[49m\u001B[43m \u001B[49m\u001B[38;5;241;43m0.01\u001B[39;49m\u001B[43m)\u001B[49m\n",
      "Input \u001B[0;32mIn [63]\u001B[0m, in \u001B[0;36mpageRank\u001B[0;34m(A, beta, eps)\u001B[0m\n\u001B[1;32m     42\u001B[0m r1 \u001B[38;5;241m=\u001B[39m np\u001B[38;5;241m.\u001B[39mzeros(\u001B[38;5;28mlen\u001B[39m(A))\u001B[38;5;241m/\u001B[39m(\u001B[38;5;28mlen\u001B[39m(A))\n\u001B[1;32m     43\u001B[0m r2 \u001B[38;5;241m=\u001B[39m np\u001B[38;5;241m.\u001B[39mones(\u001B[38;5;28mlen\u001B[39m(A))\u001B[38;5;241m/\u001B[39m(\u001B[38;5;28mlen\u001B[39m(A))\n\u001B[0;32m---> 45\u001B[0m \u001B[38;5;28;01mwhile\u001B[39;00m(\u001B[43mmanhattanDist\u001B[49m\u001B[43m(\u001B[49m\u001B[43mr1\u001B[49m\u001B[43m,\u001B[49m\u001B[43m \u001B[49m\u001B[43mr2\u001B[49m\u001B[43m)\u001B[49m\u001B[43m \u001B[49m\u001B[38;5;241;43m>\u001B[39;49m\u001B[43m \u001B[49m\u001B[43meps\u001B[49m):\n\u001B[1;32m     46\u001B[0m     r1 \u001B[38;5;241m=\u001B[39m r2\u001B[38;5;241m.\u001B[39mcopy()\n\u001B[1;32m     47\u001B[0m     r2 \u001B[38;5;241m=\u001B[39m step(A, r2)\n",
      "\u001B[0;31mTypeError\u001B[0m: '>' not supported between instances of 'NoneType' and 'float'"
     ]
    }
   ],
   "source": [
    "def pageRank(A, beta, eps):\n",
    "    def hasInDegrees(matrix):\n",
    "        degrees = np.zeros(len(matrix))\n",
    "        for i in range(0, len(matrix)):\n",
    "            for j in range(0, len(matrix)):\n",
    "                degrees[i] = int(matrix[j][i] != 0)\n",
    "                if degrees[i] != 0:\n",
    "                    break\n",
    "\n",
    "        return degrees\n",
    "    def outDegrees(matrix):\n",
    "        degrees = np.zeros(len(matrix))\n",
    "        for i in range(0, len(matrix)):\n",
    "            for j in range(0, len(matrix)):\n",
    "                degrees[i] = int(matrix[i][j] != 0) + degrees[i]\n",
    "\n",
    "        return degrees\n",
    "\n",
    "    def step(matrix, vector):\n",
    "        inDegrees = hasInDegrees(matrix)\n",
    "        outDegree = outDegrees(matrix)\n",
    "        returnVector = np.zeros(len(vector))\n",
    "\n",
    "        nonlocal beta\n",
    "        for i in range(0, len(matrix)):\n",
    "            for j in range(0, len(matrix)):\n",
    "                if inDegrees[i] == 0:\n",
    "                    returnVector[i] = 0\n",
    "                    break\n",
    "                d_j = outDegree[j]\n",
    "                if d_j != 0:\n",
    "                    returnVector[i] = returnVector[i] + vector[j] * beta / d_j\n",
    "\n",
    "        returnVector = returnVector + (1 - sum(returnVector)) / len(returnVector)\n",
    "        return returnVector\n",
    "\n",
    "\n",
    "\n",
    "    def manhattanDist(vector1, vector2):\n",
    "        dist = 0\n",
    "        for i in range(0, len(vector1)):\n",
    "            dist = dist + abs(vector1[i]  - vector2[i])\n",
    "        return dist\n",
    "\n",
    "    r1 = np.zeros(len(A))/(len(A))\n",
    "    r2 = np.ones(len(A))/(len(A))\n",
    "\n",
    "    while(manhattanDist(r1, r2) > eps):\n",
    "        r1 = r2.copy()\n",
    "        r2 = step(A, r2)\n",
    "        print(r2)\n",
    "\n",
    "\n",
    "A = [\n",
    "    [0,0,0,0,0,0,0,0,0,0,0],\n",
    "    [0,0,1,0,0,0,0,0,0,0,0],\n",
    "    [0,1,0,0,0,0,0,0,0,0,0],\n",
    "    [1,1,0,0,0,0,0,0,0,0,0],\n",
    "    [0,1,0,1,0,1,0,0,0,0,0],\n",
    "    [0,1,0,0,1,0,0,0,0,0,0],\n",
    "    [0,1,0,0,1,0,0,0,0,0,0],\n",
    "    [0,1,0,0,1,0,0,0,0,0,0],\n",
    "    [0,1,0,0,1,0,0,0,0,0,0],\n",
    "    [0,0,0,0,1,0,0,0,0,0,0],\n",
    "    [0,0,0,0,1,0,0,0,0,0,0],\n",
    "]\n",
    "pageRank(A, 0.85, 0.01)"
   ],
   "metadata": {
    "collapsed": false,
    "pycharm": {
     "name": "#%%\n"
    }
   }
  }
 ],
 "metadata": {
  "kernelspec": {
   "display_name": "Python 3",
   "language": "python",
   "name": "python3"
  },
  "language_info": {
   "codemirror_mode": {
    "name": "ipython",
    "version": 2
   },
   "file_extension": ".py",
   "mimetype": "text/x-python",
   "name": "python",
   "nbconvert_exporter": "python",
   "pygments_lexer": "ipython2",
   "version": "2.7.6"
  }
 },
 "nbformat": 4,
 "nbformat_minor": 0
}