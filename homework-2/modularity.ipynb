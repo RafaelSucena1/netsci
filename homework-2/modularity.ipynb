{
 "cells": [
  {
   "cell_type": "code",
   "execution_count": 58,
   "metadata": {
    "collapsed": true,
    "pycharm": {
     "name": "#%%\n"
    }
   },
   "outputs": [
    {
     "name": "stdout",
     "output_type": "stream",
     "text": [
      "0.16\n"
     ]
    }
   ],
   "source": [
    "def modularity(A, partition):\n",
    "    def binary(edge):\n",
    "        bool = edge != 0\n",
    "        return int(bool)\n",
    "\n",
    "    def delta(partition, i, j):\n",
    "        return partition[i] == partition[j]\n",
    "\n",
    "    degrees = [0] * len(A)\n",
    "    m = 0\n",
    "    for i in range(0, len(A)):\n",
    "        for j in range(0, len(A)):\n",
    "            edge = binary(A[i][j])\n",
    "            degrees[i] = degrees[i] + edge\n",
    "            if(j > i):\n",
    "                m = m + edge\n",
    "\n",
    "    sum = 0\n",
    "    for i in range(0, len(A)):\n",
    "        for j in range(0, len(A)):\n",
    "            if delta(partition, i, j) and j != i:\n",
    "                edge = binary(A[i][j])\n",
    "                sum = sum + (edge - degrees[i]*degrees[j]/(2*m))\n",
    "\n",
    "    return sum/(2*m)\n",
    "\n",
    "\n",
    "A = [\n",
    "    [0,2,22,7],\n",
    "    [1,0,0,1],\n",
    "    [1,0,0,1],\n",
    "    [1,1,1,0]\n",
    "]\n",
    "\n",
    "partition = [0,0,1,1]\n",
    "mod = modularity(A, partition)\n",
    "print(mod)\n"
   ]
  },
  {
   "cell_type": "markdown",
   "source": [],
   "metadata": {
    "collapsed": false
   }
  },
  {
   "cell_type": "code",
   "execution_count": 57,
   "outputs": [
    {
     "name": "stdout",
     "output_type": "stream",
     "text": [
      "[1, 1, 2, 3, 3]\n"
     ]
    }
   ],
   "source": [
    "def agglomerate(A):\n",
    "    def binary(edge):\n",
    "        bool = edge != 0\n",
    "        return int(bool)\n",
    "\n",
    "    degrees = [0] * len(A)\n",
    "    m = 0\n",
    "\n",
    "    for i in range(0, len(A)):\n",
    "        for j in range(0, len(A)):\n",
    "            edge = binary(A[i][j])\n",
    "            degrees[i] = degrees[i] + edge\n",
    "            if(j > i):\n",
    "                m = m + edge\n",
    "\n",
    "    \"\"\" list the length of node list \"\"\"\n",
    "    partition = []\n",
    "    \"\"\" dictionary: partition number -> node list\"\"\"\n",
    "    partitionDict = {0:[]}\n",
    "    max = 0\n",
    "    def getSubset(thisNode):\n",
    "        nonlocal max\n",
    "        maxIndex = 0\n",
    "        sum = 0\n",
    "        for i in range(0, len(partitionDict)):\n",
    "            for node in partitionDict[i]:\n",
    "                edge = binary(A[thisNode][node])\n",
    "                if edge != 0:\n",
    "                    sum = sum + (edge - degrees[i]*degrees[j]/(2*m))\n",
    "            if sum > max:\n",
    "                max = sum\n",
    "                maxIndex = i\n",
    "            else:\n",
    "                max = 0\n",
    "                maxIndex = len(partitionDict)\n",
    "            sum = 0\n",
    "\n",
    "        return maxIndex\n",
    "\n",
    "    for node in range(0, len(A)):\n",
    "        subset = getSubset(node)\n",
    "        if subset >= len(partitionDict):\n",
    "            partitionDict[subset] = []\n",
    "        partitionDict[subset].append(node)\n",
    "        partition.append(subset)\n",
    "\n",
    "    print(partition)\n",
    "\n",
    "\n",
    "A = [\n",
    "    [0,2,0,0,0],\n",
    "    [1,0,0,0,0],\n",
    "    [0,0,0,0,0],\n",
    "    [0,0,0,0,1],\n",
    "    [0,0,0,1,0]\n",
    "]\n",
    "\n",
    "agglomerate(A)\n",
    "\n",
    "\n"
   ],
   "metadata": {
    "collapsed": false,
    "pycharm": {
     "name": "#%%\n"
    }
   }
  },
  {
   "cell_type": "code",
   "execution_count": 27,
   "outputs": [
    {
     "name": "stdout",
     "output_type": "stream",
     "text": [
      "2\n"
     ]
    }
   ],
   "source": [
    "print(len({1:[23,43,4], 2:[]}))"
   ],
   "metadata": {
    "collapsed": false,
    "pycharm": {
     "name": "#%%\n"
    }
   }
  },
  {
   "cell_type": "code",
   "execution_count": null,
   "outputs": [],
   "source": [],
   "metadata": {
    "collapsed": false,
    "pycharm": {
     "name": "#%%\n"
    }
   }
  }
 ],
 "metadata": {
  "kernelspec": {
   "display_name": "Python 3",
   "language": "python",
   "name": "python3"
  },
  "language_info": {
   "codemirror_mode": {
    "name": "ipython",
    "version": 2
   },
   "file_extension": ".py",
   "mimetype": "text/x-python",
   "name": "python",
   "nbconvert_exporter": "python",
   "pygments_lexer": "ipython2",
   "version": "2.7.6"
  }
 },
 "nbformat": 4,
 "nbformat_minor": 0
}